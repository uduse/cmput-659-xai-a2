{
 "cells": [
  {
   "cell_type": "code",
   "execution_count": 35,
   "metadata": {
    "ExecuteTime": {
     "end_time": "2020-03-18T18:59:06.680155Z",
     "start_time": "2020-03-18T18:59:06.675574Z"
    }
   },
   "outputs": [],
   "source": [
    "import random\n",
    "import numpy as np\n",
    "import collections\n",
    "from game import Board, Game\n",
    "from player_random import PlayerRandom\n",
    "import sys\n",
    "import uuid\n",
    "import inspect\n",
    "import copy\n",
    "import anytree\n",
    "from anytree import Node as anytreeNode\n",
    "from anytree import RenderTree, PreOrderIter\n",
    "from anytree.exporter import DotExporter\n",
    "from enum import Enum\n",
    "import functools\n",
    "import tqdm\n",
    "from tqdm.notebook import tqdm as tqdm_nb\n",
    "import itertools\n",
    "from vanilla_uct_player import VanillaUCTPlayer\n",
    "from pprint import pprint\n",
    "from bokeh.io import output_file, show, output_notebook, reset_output, export_png\n",
    "from bokeh.models import ColumnDataSource\n",
    "from bokeh.plotting import figure\n",
    "import pickle"
   ]
  },
  {
   "cell_type": "code",
   "execution_count": 3,
   "metadata": {
    "ExecuteTime": {
     "end_time": "2020-03-18T18:46:48.276756Z",
     "start_time": "2020-03-18T18:46:48.274350Z"
    }
   },
   "outputs": [],
   "source": [
    "def get_node_id():\n",
    "    return str(uuid.uuid4())[:8]"
   ]
  },
  {
   "cell_type": "code",
   "execution_count": 4,
   "metadata": {
    "ExecuteTime": {
     "end_time": "2020-03-18T18:46:48.283098Z",
     "start_time": "2020-03-18T18:46:48.278798Z"
    }
   },
   "outputs": [],
   "source": [
    "class Node(anytreeNode):\n",
    "    def __init__(self, *args, **kwargs):\n",
    "        super().__init__(*args, **kwargs)\n",
    "        self._id = get_node_id()\n",
    "        \n",
    "    def __eq__(self, other):\n",
    "        return RenderTree(self).by_attr() == RenderTree(other).by_attr()\n",
    "    \n",
    "    def __hash__(self):\n",
    "        return str(RenderTree(self).by_attr()).__hash__()"
   ]
  },
  {
   "cell_type": "code",
   "execution_count": 5,
   "metadata": {
    "ExecuteTime": {
     "end_time": "2020-03-18T18:46:48.294354Z",
     "start_time": "2020-03-18T18:46:48.284888Z"
    }
   },
   "outputs": [],
   "source": [
    "class Script(object):\n",
    "    def __init__(self, tree):\n",
    "        super().__init__()\n",
    "        self.tree = tree\n",
    "        \n",
    "    def get_action(self):\n",
    "        raise NotImplementedError\n",
    "        \n",
    "class Lib(object):\n",
    "    def is_doubles(action):\n",
    "        if len(action) > 1 and action[0] == action[1]:\n",
    "            return True\n",
    "        else:\n",
    "            return False\n",
    "\n",
    "    def contains_number(action, column_num):\n",
    "        if not isinstance(action, str):\n",
    "            if column_num in action:\n",
    "                return True\n",
    "        return False\n",
    "\n",
    "    def has_won_column(state, action):\n",
    "        return len(state.columns_won_current_round()) > 0\n",
    "    \n",
    "    def column_progression_this_round_greater_than(state, column_num, small_num):\n",
    "        return state.number_positions_conquered_this_round(column_num) >= small_num\n",
    "\n",
    "    def column_progression_greater_than(state, column_num, small_num):\n",
    "        return state.number_positions_conquered(column_num) >= small_num\n",
    "    \n",
    "    def progression_this_round_greater_than(state, small_num):\n",
    "        progression = sum(state.number_positions_conquered_this_round(i) for i in range(2, 7))\n",
    "        return progression >= small_num\n",
    "    \n",
    "    def progression_greater_than(state, small_num):\n",
    "        progression = sum(state.number_positions_conquered(i) for i in range(2, 7))\n",
    "        return progression >= small_num\n",
    "\n",
    "    def is_yes_action(action):\n",
    "        if isinstance(action, str) and action == 'y':\n",
    "            return True\n",
    "        return False\n",
    "    \n",
    "    def is_no_action(action):\n",
    "        if isinstance(action, str) and action == 'n':\n",
    "            return True\n",
    "        return False"
   ]
  },
  {
   "cell_type": "code",
   "execution_count": 41,
   "metadata": {
    "ExecuteTime": {
     "end_time": "2020-03-18T20:22:27.982652Z",
     "start_time": "2020-03-18T20:22:27.979327Z"
    }
   },
   "outputs": [],
   "source": [
    "default_enums = [\n",
    "    \"START\",\n",
    "    \"IF_BLOCK\",\n",
    "    \"IF_BODY\",\n",
    "    \"BOOL_EXP\",\n",
    "    \"AND_EXP\",\n",
    "    \"OR_EXP\",\n",
    "    \"NOT_EXP\",\n",
    "    \"BOOL\",\n",
    "    \"RETURN\",\n",
    "    \"FUNC_CALL\",\n",
    "    \"COLUMN_NUM\",\n",
    "    \"SMALL_NUM\",\n",
    "]\n",
    "    \n",
    "lib_functions = inspect.getmembers(Lib, inspect.isfunction)"
   ]
  },
  {
   "cell_type": "code",
   "execution_count": 42,
   "metadata": {
    "ExecuteTime": {
     "end_time": "2020-03-18T20:22:28.143981Z",
     "start_time": "2020-03-18T20:22:28.140353Z"
    }
   },
   "outputs": [],
   "source": [
    "lib_func_names = [\n",
    "    name.upper()\n",
    "    for name, _ in lib_functions if name[0] != '_'\n",
    "]\n",
    "\n",
    "Rule = Enum('Rule', default_enums + lib_func_names)"
   ]
  },
  {
   "cell_type": "code",
   "execution_count": 43,
   "metadata": {
    "ExecuteTime": {
     "end_time": "2020-03-18T20:22:28.283710Z",
     "start_time": "2020-03-18T20:22:28.280569Z"
    }
   },
   "outputs": [],
   "source": [
    "def get_func(name):\n",
    "    return dict(lib_functions)[name.lower()]\n",
    "\n",
    "def get_params(f):\n",
    "    return list(inspect.signature(f).parameters)"
   ]
  },
  {
   "cell_type": "code",
   "execution_count": 44,
   "metadata": {
    "ExecuteTime": {
     "end_time": "2020-03-18T20:22:28.420760Z",
     "start_time": "2020-03-18T20:22:28.415953Z"
    }
   },
   "outputs": [],
   "source": [
    "def make_dynamic_rule(name):\n",
    "    func = get_func(name)\n",
    "    params = get_params(func)\n",
    "    def _convert(param):\n",
    "        if param == 'state':\n",
    "            return 'state'\n",
    "        elif param == 'action':\n",
    "            return 'a'\n",
    "        elif param == 'column_num':\n",
    "            return Rule.COLUMN_NUM\n",
    "        elif param == 'small_num':\n",
    "            return Rule.SMALL_NUM\n",
    "        elif param == 'self':\n",
    "            return 'self'\n",
    "        else:\n",
    "            raise ValueError\n",
    "    return ['Lib.' + name.lower(), *list(map(_convert, params))]"
   ]
  },
  {
   "cell_type": "code",
   "execution_count": 45,
   "metadata": {
    "ExecuteTime": {
     "end_time": "2020-03-18T20:22:28.571394Z",
     "start_time": "2020-03-18T20:22:28.563082Z"
    }
   },
   "outputs": [],
   "source": [
    "class Sampler(object):\n",
    "    pass\n",
    "\n",
    "class Diminishing(Sampler):\n",
    "    def __init__(self, gamma, rule):\n",
    "        self.gamma = gamma\n",
    "        self.rule = rule\n",
    "        \n",
    "    def sample(self):\n",
    "        ret = []\n",
    "        curr = 1\n",
    "        while random.random() <= curr:\n",
    "            ret.append(self.rule)\n",
    "            curr *= self.gamma\n",
    "        return ret\n",
    "    \n",
    "class Weighted(Sampler):\n",
    "    def __init__(self, dict_):\n",
    "        self.dict = dict_\n",
    "    \n",
    "    def sample(self):\n",
    "        weight_sum = sum(self.dict.keys())\n",
    "        normal_quoefficient = 1 / weight_sum\n",
    "        rand = random.random()\n",
    "        for weight, rule in self.dict.items():\n",
    "            prob = weight * normal_quoefficient\n",
    "            if rand <= prob:\n",
    "                if not isinstance(rule, list):\n",
    "                    rule = [rule]\n",
    "                return rule\n",
    "            else:\n",
    "                rand -= prob\n",
    "        raise ValueError"
   ]
  },
  {
   "cell_type": "code",
   "execution_count": 46,
   "metadata": {
    "ExecuteTime": {
     "end_time": "2020-03-18T20:22:28.727240Z",
     "start_time": "2020-03-18T20:22:28.715206Z"
    }
   },
   "outputs": [
    {
     "data": {
      "text/plain": [
       "{<Rule.START: 1>: [<Rule.IF_BLOCK: 2>],\n",
       " <Rule.IF_BLOCK: 2>: ([<Rule.BOOL_EXP: 4>, <Rule.IF_BODY: 3>],),\n",
       " <Rule.IF_BODY: 3>: [<Rule.RETURN: 9>],\n",
       " <Rule.BOOL_EXP: 4>: [<Rule.BOOL: 8>,\n",
       "  <Rule.AND_EXP: 5>,\n",
       "  <Rule.NOT_EXP: 7>,\n",
       "  <Rule.OR_EXP: 6>],\n",
       " <Rule.AND_EXP: 5>: [[<Rule.BOOL: 8>, <Rule.BOOL: 8>]],\n",
       " <Rule.OR_EXP: 6>: [[<Rule.BOOL: 8>, <Rule.BOOL: 8>]],\n",
       " <Rule.NOT_EXP: 7>: [<Rule.BOOL: 8>],\n",
       " <Rule.BOOL: 8>: (<Rule.FUNC_CALL: 10>,),\n",
       " <Rule.FUNC_CALL: 10>: [['Lib.column_progression_greater_than',\n",
       "   'state',\n",
       "   <Rule.COLUMN_NUM: 11>,\n",
       "   <Rule.SMALL_NUM: 12>],\n",
       "  ['Lib.column_progression_this_round_greater_than',\n",
       "   'state',\n",
       "   <Rule.COLUMN_NUM: 11>,\n",
       "   <Rule.SMALL_NUM: 12>],\n",
       "  ['Lib.contains_number', 'a', <Rule.COLUMN_NUM: 11>],\n",
       "  ['Lib.has_won_column', 'state', 'a'],\n",
       "  ['Lib.is_doubles', 'a'],\n",
       "  ['Lib.is_no_action', 'a'],\n",
       "  ['Lib.is_yes_action', 'a'],\n",
       "  ['Lib.progression_greater_than', 'state', <Rule.SMALL_NUM: 12>],\n",
       "  ['Lib.progression_this_round_greater_than', 'state', <Rule.SMALL_NUM: 12>]],\n",
       " <Rule.RETURN: 9>: ('return a',),\n",
       " <Rule.COLUMN_NUM: 11>: ['2', '3', '4', '5', '6'],\n",
       " <Rule.SMALL_NUM: 12>: ('0', '1', '2', '3')}"
      ]
     },
     "execution_count": 46,
     "metadata": {},
     "output_type": "execute_result"
    }
   ],
   "source": [
    "grammar = {\n",
    "    Rule.START: [\n",
    "        Rule.IF_BLOCK,\n",
    "    ],\n",
    "    Rule.IF_BLOCK: (\n",
    "        [Rule.BOOL_EXP, Rule.IF_BODY],\n",
    "    ),\n",
    "    Rule.IF_BODY: [\n",
    "        Rule.RETURN,\n",
    "    ],\n",
    "    Rule.BOOL_EXP: [\n",
    "#         Rule.BOOL_EXP,\n",
    "        Rule.BOOL, \n",
    "        Rule.AND_EXP,\n",
    "        Rule.NOT_EXP,\n",
    "        Rule.OR_EXP,\n",
    "    ],\n",
    "    Rule.AND_EXP: [\n",
    "#         Weighted({\n",
    "#             7: [Rule.BOOL, Rule.BOOL],\n",
    "#             3: [Rule.BOOL_EXP, Rule.BOOL_EXP]\n",
    "#         })\n",
    "        [Rule.BOOL, Rule.BOOL],\n",
    "    ],\n",
    "    Rule.OR_EXP: [\n",
    "#         Weighted({\n",
    "#             7: [Rule.BOOL, Rule.BOOL],\n",
    "#             3: [Rule.BOOL_EXP, Rule.BOOL_EXP]\n",
    "#         })\n",
    "        [Rule.BOOL, Rule.BOOL],\n",
    "    ],\n",
    "    Rule.NOT_EXP: [\n",
    "        Rule.BOOL,\n",
    "    ],\n",
    "    Rule.BOOL: (\n",
    "        Rule.FUNC_CALL,\n",
    "    ),\n",
    "    Rule.FUNC_CALL: [\n",
    "        make_dynamic_rule(name) for name in lib_func_names\n",
    "    ],\n",
    "    Rule.RETURN: (\n",
    "        \"return a\",\n",
    "    ),\n",
    "    Rule.COLUMN_NUM: [\n",
    "        '2', '3', '4', '5', '6'\n",
    "    ],\n",
    "    Rule.SMALL_NUM: (\n",
    "        '0', '1', '2', '3'\n",
    "    )\n",
    "}\n",
    "grammar"
   ]
  },
  {
   "cell_type": "code",
   "execution_count": 47,
   "metadata": {
    "ExecuteTime": {
     "end_time": "2020-03-18T20:22:28.883654Z",
     "start_time": "2020-03-18T20:22:28.877207Z"
    }
   },
   "outputs": [],
   "source": [
    "def generate_tree(root):\n",
    "    if isinstance(root.name, str):\n",
    "        return root\n",
    "    next_ = grammar.get(root.name, None)\n",
    "    if not next_:\n",
    "        return root\n",
    "    \n",
    "    branch = random.choice(next_)\n",
    "    \n",
    "    candidates = [] \n",
    "    if isinstance(branch, list):\n",
    "        candidates = branch\n",
    "    elif isinstance(branch, (Rule, str)):\n",
    "        candidates = [branch]\n",
    "    elif isinstance(branch, Sampler):\n",
    "        candidates.extend(branch.sample())\n",
    "    elif branch is None:\n",
    "        pass\n",
    "    else:\n",
    "        raise ValueError\n",
    "        \n",
    "    for cand in candidates:\n",
    "        child = Node(cand, parent=root)\n",
    "        generate_tree(child)\n",
    "    return root"
   ]
  },
  {
   "cell_type": "code",
   "execution_count": 48,
   "metadata": {
    "ExecuteTime": {
     "end_time": "2020-03-18T20:22:29.496608Z",
     "start_time": "2020-03-18T20:22:29.492541Z"
    }
   },
   "outputs": [],
   "source": [
    "def get_random_tree(seed=None):\n",
    "    if seed:\n",
    "        random.seed(seed)\n",
    "    root = Node(Rule.START)\n",
    "    tree = generate_tree(root)\n",
    "    return tree\n",
    "\n",
    "def print_tree(tree):\n",
    "    print(RenderTree(tree, style=anytree.render.AsciiStyle()).by_attr())"
   ]
  },
  {
   "cell_type": "code",
   "execution_count": 49,
   "metadata": {
    "ExecuteTime": {
     "end_time": "2020-03-18T20:22:29.724498Z",
     "start_time": "2020-03-18T20:22:29.720930Z"
    }
   },
   "outputs": [],
   "source": [
    "def indent(raw, level):\n",
    "    tab = '    '\n",
    "    lines = raw.splitlines()\n",
    "    lines = [tab * level + line for line in lines]\n",
    "    return '\\n'.join(lines)"
   ]
  },
  {
   "cell_type": "code",
   "execution_count": 53,
   "metadata": {
    "ExecuteTime": {
     "end_time": "2020-03-18T20:22:46.247588Z",
     "start_time": "2020-03-18T20:22:46.237426Z"
    }
   },
   "outputs": [],
   "source": [
    "def render(node):\n",
    "    if isinstance(node.name, str):\n",
    "        return node.name\n",
    "    elif isinstance(node.name, Rule):\n",
    "        if node.name == Rule.IF_BLOCK:\n",
    "            template = \"if ({0}):\\n{1}\\n\"\n",
    "            bool_exp = render(node.children[0])\n",
    "            body = indent(render(node.children[1]), 1)\n",
    "            return template.format(bool_exp, body)\n",
    "        elif node.name == Rule.AND_EXP:\n",
    "            template = \"({0} and {1})\"\n",
    "            left = render(node.children[0])\n",
    "            right = render(node.children[1])\n",
    "            return template.format(left, right)\n",
    "        elif node.name == Rule.OR_EXP:\n",
    "            template = \"({0} or {1})\"\n",
    "            left = render(node.children[0])\n",
    "            right = render(node.children[1])\n",
    "            return template.format(left, right)\n",
    "        elif node.name == Rule.NOT_EXP:\n",
    "            template = \"not ({0})\"\n",
    "            op = render(node.children[0])\n",
    "            return template.format(op)\n",
    "        elif node.name == Rule.FUNC_CALL:\n",
    "            template = \"{0}({1})\"\n",
    "            func_name = render(node.children[0])\n",
    "            params = ', '.join([render(child) for child in node.children[1:]])\n",
    "            return template.format(func_name, params)\n",
    "        return ''.join(render(child) for child in node.children)"
   ]
  },
  {
   "cell_type": "code",
   "execution_count": 54,
   "metadata": {
    "ExecuteTime": {
     "end_time": "2020-03-18T20:22:48.185876Z",
     "start_time": "2020-03-18T20:22:48.182124Z"
    }
   },
   "outputs": [],
   "source": [
    "script_template = r\"\"\"\n",
    "\n",
    "class {0}(Script):\n",
    "    def get_action(self, state):\n",
    "        actions = state.available_moves()\n",
    "        for a in actions:\n",
    "{1}\n",
    "        return actions[0]\n",
    "\"\"\"\n",
    "\n",
    "def render_script(node):\n",
    "    script_name = 'Script_' + str(uuid.uuid4()).replace('-', '')\n",
    "    code = indent(render(node), 3)\n",
    "    return script_name, script_template.format(script_name, code)"
   ]
  },
  {
   "cell_type": "code",
   "execution_count": 55,
   "metadata": {
    "ExecuteTime": {
     "end_time": "2020-03-18T20:22:48.333772Z",
     "start_time": "2020-03-18T20:22:48.330014Z"
    }
   },
   "outputs": [],
   "source": [
    "def exec_tree(tree):\n",
    "    script_name, raw_script = render_script(tree)\n",
    "    try:\n",
    "        exec(raw_script)\n",
    "    except Exception as e:\n",
    "        print(e)\n",
    "        print(raw_script)\n",
    "    script = eval(script_name)\n",
    "    return script(tree)"
   ]
  },
  {
   "cell_type": "code",
   "execution_count": 56,
   "metadata": {
    "ExecuteTime": {
     "end_time": "2020-03-18T20:22:48.491089Z",
     "start_time": "2020-03-18T20:22:48.479592Z"
    }
   },
   "outputs": [],
   "source": [
    "def play_game(lhs, rhs):\n",
    "    game = Game(n_players=2, dice_number=4, dice_value=3, column_range=[2, 6],\n",
    "                offset=2, initial_height=1)\n",
    "    \n",
    "    is_over = False\n",
    "    who_won = None\n",
    "\n",
    "    number_of_moves = 0\n",
    "    current_player = game.player_turn\n",
    "    while not is_over:\n",
    "        moves = game.available_moves()\n",
    "        if game.is_player_busted(moves):\n",
    "            if current_player == 1:\n",
    "                current_player = 2\n",
    "            else:\n",
    "                current_player = 1\n",
    "            continue\n",
    "        else:\n",
    "            if game.player_turn == 1:\n",
    "                chosen_play = lhs.get_action(game)\n",
    "            else:\n",
    "                chosen_play = rhs.get_action(game)\n",
    "            if chosen_play == 'n':\n",
    "                if current_player == 1:\n",
    "                    current_player = 2\n",
    "                else:\n",
    "                    current_player = 1\n",
    "            game.play(chosen_play)\n",
    "            number_of_moves += 1\n",
    "\n",
    "        who_won, is_over = game.is_finished()\n",
    "\n",
    "        if number_of_moves >= 200:\n",
    "            is_over = True\n",
    "            who_won = -1\n",
    "    return who_won\n",
    "\n",
    "def evaluate_pair(lhs, rhs, num_games=3):\n",
    "    for _ in range(num_games):\n",
    "        result = play_game(lhs, rhs)\n",
    "        if result == 1:\n",
    "            winner, losers = lhs, [rhs]\n",
    "        elif result == 2:\n",
    "            winner, losers = rhs, [lhs]\n",
    "        else:\n",
    "            winner, losers = None, [lhs, rhs]\n",
    "        if winner:\n",
    "            winner.fitness += 1\n",
    "        for loser in losers:\n",
    "            loser.fitness -= 1"
   ]
  },
  {
   "cell_type": "code",
   "execution_count": 57,
   "metadata": {
    "ExecuteTime": {
     "end_time": "2020-03-18T20:22:48.602367Z",
     "start_time": "2020-03-18T20:22:48.598324Z"
    }
   },
   "outputs": [],
   "source": [
    "class RecordingUCTPlayer(VanillaUCTPlayer):\n",
    "    def __init__(self, c, sim):\n",
    "        super().__init__(c, sim)\n",
    "        self.records = []\n",
    "        \n",
    "    def get_action(self, state):\n",
    "        action = super().get_action(state)\n",
    "        self.records.append((state.clone(), action))\n",
    "        return action"
   ]
  },
  {
   "cell_type": "code",
   "execution_count": 58,
   "metadata": {
    "ExecuteTime": {
     "end_time": "2020-03-18T20:22:48.790930Z",
     "start_time": "2020-03-18T20:22:48.786230Z"
    }
   },
   "outputs": [],
   "source": [
    "def generate_uct_samples(num_games=1, c=1, simulations=1):\n",
    "    uct_samples = []\n",
    "    for i in range(num_games):\n",
    "        uct = RecordingUCTPlayer(c, simulations)\n",
    "        uct2 = RecordingUCTPlayer(c, simulations)\n",
    "        play_game(uct, uct2)\n",
    "        uct_samples.extend(uct.records)\n",
    "        uct_samples.extend(uct2.records)\n",
    "    return uct_samples"
   ]
  },
  {
   "cell_type": "code",
   "execution_count": 59,
   "metadata": {
    "ExecuteTime": {
     "end_time": "2020-03-18T20:22:48.954062Z",
     "start_time": "2020-03-18T20:22:48.951331Z"
    }
   },
   "outputs": [],
   "source": [
    "def generate_if_block():\n",
    "    new_if = Node(Rule.IF_BLOCK)\n",
    "    return generate_tree(new_if)"
   ]
  },
  {
   "cell_type": "code",
   "execution_count": 60,
   "metadata": {
    "ExecuteTime": {
     "end_time": "2020-03-18T20:22:49.090868Z",
     "start_time": "2020-03-18T20:22:49.087417Z"
    }
   },
   "outputs": [],
   "source": [
    "def is_useful_node(node):\n",
    "    if not isinstance(node.name, Rule):\n",
    "        return False\n",
    "    if not node.children:\n",
    "        return False\n",
    "    if node.name in (Rule.IF_BODY, Rule.RETURN):\n",
    "        return False\n",
    "    return True"
   ]
  },
  {
   "cell_type": "code",
   "execution_count": 61,
   "metadata": {
    "ExecuteTime": {
     "end_time": "2020-03-18T20:22:49.239165Z",
     "start_time": "2020-03-18T20:22:49.234926Z"
    }
   },
   "outputs": [],
   "source": [
    "def propose_new_script(script):\n",
    "    tree = copy.deepcopy(script.tree)\n",
    "    all_nodes = anytree.search.findall(tree, filter_=is_useful_node)\n",
    "    random_node = random.choice(all_nodes)\n",
    "    random_node.children = []\n",
    "    generate_tree(random_node)\n",
    "    return exec_tree(tree)"
   ]
  },
  {
   "cell_type": "code",
   "execution_count": 62,
   "metadata": {
    "ExecuteTime": {
     "end_time": "2020-03-18T20:22:49.379512Z",
     "start_time": "2020-03-18T20:22:49.376259Z"
    }
   },
   "outputs": [],
   "source": [
    "def count_errors(script, uct_samples):\n",
    "    num_errors = 0\n",
    "    for state, uct_action in uct_samples:\n",
    "        script_action = script.get_action(state)\n",
    "        if uct_action != script_action:\n",
    "            num_errors += 1\n",
    "    return num_errors"
   ]
  },
  {
   "cell_type": "code",
   "execution_count": 63,
   "metadata": {
    "ExecuteTime": {
     "end_time": "2020-03-18T20:22:49.524357Z",
     "start_time": "2020-03-18T20:22:49.521161Z"
    }
   },
   "outputs": [],
   "source": [
    "def get_score(script, uct_samples):\n",
    "    beta = 0.5\n",
    "    num_errors = count_errors(script, uct_samples)\n",
    "    score = np.exp(-beta * num_errors)\n",
    "    return score"
   ]
  },
  {
   "cell_type": "code",
   "execution_count": 64,
   "metadata": {
    "ExecuteTime": {
     "end_time": "2020-03-18T20:22:49.679161Z",
     "start_time": "2020-03-18T20:22:49.673065Z"
    }
   },
   "outputs": [],
   "source": [
    "def run_metropolis_hastings(uct_samples, prev_scripts=None, iterations=1000):\n",
    "    script = exec_tree(get_random_tree())\n",
    "    scripts = [script]\n",
    "    for _ in range(iterations):\n",
    "        last_script = scripts[-1]\n",
    "        next_script = propose_new_script(last_script)\n",
    "        \n",
    "        if prev_scripts:\n",
    "            merged_last = merge_scripts(prev_scripts + [last_script])\n",
    "            merged_next = merge_scripts(prev_scripts + [next_script])\n",
    "        else:\n",
    "            merged_last = last_script\n",
    "            merged_next = next_script\n",
    "        \n",
    "        last_score = get_score(merged_last, uct_samples)\n",
    "        next_score = get_score(merged_next, uct_samples)\n",
    "        \n",
    "        accept = min(1, next_score / last_score)\n",
    "        if random.random() < accept:\n",
    "            scripts.append(next_script)\n",
    "        else:\n",
    "            scripts.append(last_script)\n",
    "    return scripts"
   ]
  },
  {
   "cell_type": "code",
   "execution_count": 65,
   "metadata": {
    "ExecuteTime": {
     "end_time": "2020-03-18T20:22:49.818935Z",
     "start_time": "2020-03-18T20:22:49.814920Z"
    }
   },
   "outputs": [],
   "source": [
    "def filter_uct_samples(script, uct_samples):\n",
    "    ret = []\n",
    "    for state, uct_action in uct_samples:\n",
    "        script_action = script.get_action(state)\n",
    "        if uct_action != script_action:\n",
    "            ret.append((state, uct_action))\n",
    "    return ret"
   ]
  },
  {
   "cell_type": "code",
   "execution_count": 66,
   "metadata": {
    "ExecuteTime": {
     "end_time": "2020-03-18T20:22:49.965204Z",
     "start_time": "2020-03-18T20:22:49.961627Z"
    }
   },
   "outputs": [],
   "source": [
    "def merge_scripts(scripts):\n",
    "    children = []\n",
    "    for script in scripts:\n",
    "        children.extend(copy.deepcopy(script.tree.children))\n",
    "    merged_tree = Node(Rule.START, children=children)\n",
    "    merged_script = exec_tree(merged_tree)\n",
    "    return merged_script"
   ]
  },
  {
   "cell_type": "code",
   "execution_count": 67,
   "metadata": {
    "ExecuteTime": {
     "end_time": "2020-03-18T20:22:50.114054Z",
     "start_time": "2020-03-18T20:22:50.109570Z"
    }
   },
   "outputs": [],
   "source": [
    "def run_synthesis(uct_samples, iterations=10, filter_sample=True, merge=True):\n",
    "    all_scripts = []\n",
    "    for _ in range(5):\n",
    "        prev_scripts = all_scripts if merge else []\n",
    "        scripts = run_metropolis_hastings(uct_samples, prev_scripts=prev_scripts,\n",
    "                                          iterations=iterations)\n",
    "        best_script = sorted(scripts, key=lambda s: count_errors(s, uct_samples))[0]\n",
    "        if filter_sample:\n",
    "            uct_samples = filter_uct_samples(best_script, uct_samples)\n",
    "        all_scripts.append(best_script)\n",
    "    return all_scripts"
   ]
  },
  {
   "cell_type": "code",
   "execution_count": 68,
   "metadata": {
    "ExecuteTime": {
     "end_time": "2020-03-18T20:22:50.264389Z",
     "start_time": "2020-03-18T20:22:50.257887Z"
    }
   },
   "outputs": [],
   "source": [
    "def plot_common_clauses(scripts, fname=None):\n",
    "    counter = collections.Counter()\n",
    "    for script in scripts:\n",
    "        for child in script.tree.children:\n",
    "            counter.update([child])\n",
    "    reset_output()\n",
    "#     output_notebook()\n",
    "\n",
    "    xs = []\n",
    "    ys = []\n",
    "    \n",
    "    for key, val in sorted(counter.most_common(10), key=lambda e: e[1]):\n",
    "        x = render(key.children[0])\n",
    "        xs.append(x)\n",
    "        ys.append(val)\n",
    "\n",
    "    p = figure(plot_width=1200, plot_height=800, y_range=xs)\n",
    "    p.hbar(y=xs, right=ys, height=0.5)\n",
    "\n",
    "    p.x_range.start = 0\n",
    "    if fname:\n",
    "        export_png(p, filename=fname)\n",
    "    return p"
   ]
  },
  {
   "cell_type": "code",
   "execution_count": 69,
   "metadata": {
    "ExecuteTime": {
     "end_time": "2020-03-18T20:22:50.416834Z",
     "start_time": "2020-03-18T20:22:50.413897Z"
    }
   },
   "outputs": [],
   "source": [
    "def get_uct_samples(num_samples):\n",
    "    with open('samples.pkl', 'rb') as f:\n",
    "        uct_samples = pickle.load(f)\n",
    "        return random.sample(uct_samples, k=num_samples)"
   ]
  },
  {
   "cell_type": "code",
   "execution_count": 4,
   "metadata": {
    "ExecuteTime": {
     "end_time": "2020-03-19T03:43:08.900561Z",
     "start_time": "2020-03-19T03:43:08.896015Z"
    }
   },
   "outputs": [],
   "source": [
    "def print_errors(multiple_run_scripts):\n",
    "    sum_errors = 0\n",
    "    for uct_samples, scripts in multiple_run_scripts:\n",
    "        try:\n",
    "            full_script = merge_scripts(scripts)\n",
    "        except:\n",
    "            full_script = scripts[0]\n",
    "        num_errors = count_errors(full_script, uct_samples)\n",
    "        sum_errors += num_errors\n",
    "        print('error rate: ',  num_errors / len(uct_samples) * 100, '%')\n",
    "    print('average error rate:', sum_errors / (len(uct_samples) * len(multiple_run_scripts)) * 100, '%')"
   ]
  },
  {
   "cell_type": "code",
   "execution_count": 5,
   "metadata": {
    "ExecuteTime": {
     "end_time": "2020-03-19T20:19:41.295893Z",
     "start_time": "2020-03-19T20:19:41.285981Z"
    }
   },
   "outputs": [],
   "source": [
    "def play(lhs, rhs, num_games=1000):\n",
    "    wins = 0\n",
    "    for _ in range(num_games):\n",
    "        if play_game(lhs, rhs) == 1:\n",
    "            wins += 1\n",
    "        if play_game(rhs, lhs) == 2:\n",
    "            wins += 1\n",
    "    return round(wins / (num_games * 2), 2)"
   ]
  },
  {
   "cell_type": "code",
   "execution_count": 6,
   "metadata": {
    "ExecuteTime": {
     "end_time": "2020-03-20T07:06:30.718325Z",
     "start_time": "2020-03-20T07:06:30.714035Z"
    }
   },
   "outputs": [],
   "source": [
    "def print_winrates(multiple_run_scripts):\n",
    "    win_rates = []\n",
    "    for _, scripts in multiple_run_scripts:\n",
    "        script = merge_scripts(scripts)\n",
    "        win_rate = play(script, PlayerRandom())\n",
    "        win_rates.append(win_rate)\n",
    "        print('win rate:', round(win_rate * 100, 2), '%')\n",
    "    print('average win rate:', round((sum(win_rates) / len(win_rates)) * 100, 2), '%')"
   ]
  }
 ],
 "metadata": {
  "hide_input": false,
  "kernelspec": {
   "display_name": "cmput_659_a2",
   "language": "python",
   "name": "cmput_659_a2"
  },
  "language_info": {
   "codemirror_mode": {
    "name": "ipython",
    "version": 3
   },
   "file_extension": ".py",
   "mimetype": "text/x-python",
   "name": "python",
   "nbconvert_exporter": "python",
   "pygments_lexer": "ipython3",
   "version": "3.7.5"
  },
  "toc": {
   "base_numbering": 1,
   "nav_menu": {},
   "number_sections": true,
   "sideBar": true,
   "skip_h1_title": false,
   "title_cell": "Table of Contents",
   "title_sidebar": "Contents",
   "toc_cell": false,
   "toc_position": {},
   "toc_section_display": true,
   "toc_window_display": false
  }
 },
 "nbformat": 4,
 "nbformat_minor": 4
}
